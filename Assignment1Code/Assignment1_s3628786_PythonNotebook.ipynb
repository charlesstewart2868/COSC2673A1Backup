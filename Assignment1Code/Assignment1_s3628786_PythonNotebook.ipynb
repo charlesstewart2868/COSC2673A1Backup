{
 "cells": [
  {
   "cell_type": "markdown",
   "source": [
    "---\n",
    "# <div align=\"center\"><font color='darkblue'> Assignment 1  </font></div>\n",
    "## <div align=\"center\"> <font color='darkblue'> Charles Stewart - s3628786 </font></div>\n",
    "---"
   ],
   "metadata": {
    "collapsed": false
   }
  },
  {
   "cell_type": "markdown",
   "source": [
    "# Introduction\n",
    "\n",
    "The following notebook is used ot create and present all calculations and models needed\n",
    "for assignment 1. This assignments aim is to determine and apply an appropriated ML\n",
    "model for the Hospital Inpatient Data chosen for the assignment. The data tracks many\n",
    "attributes of a patients stay, with the aim of the ML model to be able to determine\n",
    "whether a patients length of stay will be less than 4 days.\n",
    "\n",
    "## Goals\n",
    "- Perform exploratory data analysis to better understand the data, and curate the dataset\n",
    "ready for ML techniques\n",
    "- Determine possible ML techniques that could be used for data analysis\n",
    "- Create and evaluation framework to determine the best model for the data\n",
    "- Perform train/test dataset to create model and evaluate its performance\n",
    "- Determine any inefficiencies or limitation in model\n",
    "- Create final results for tests dataset\n",
    "\n",
    "## Dataset\n",
    "The data for this assignment is based on the dataset 'HealthData: Hospital Inpatient Discharges'.\n",
    "The data has be de-identified, with some medications for this assignment. The data has the 13\n",
    "attributes, all shown below;\n",
    " \n",
    " 1, TypeOfAdmission\n",
    " 2, CCSProcedureCode\n",
    " 3, APRSeverityOffIllnessCode\n",
    " 4, PaymentTypology\n",
    " 5, BirthWeight\n",
    " 6, EmergencyDepartmentIndicator\n",
    " 7, AverageCostInCountry\n",
    " 8, AverageChargesInCountry\n",
    " 9, "
   ],
   "metadata": {
    "collapsed": false
   }
  }
 ],
 "metadata": {
  "kernelspec": {
   "display_name": "Python 3",
   "language": "python",
   "name": "python3"
  },
  "language_info": {
   "codemirror_mode": {
    "name": "ipython",
    "version": 2
   },
   "file_extension": ".py",
   "mimetype": "text/x-python",
   "name": "python",
   "nbconvert_exporter": "python",
   "pygments_lexer": "ipython2",
   "version": "2.7.6"
  },
  "pycharm": {
   "stem_cell": {
    "cell_type": "raw",
    "source": [],
    "metadata": {
     "collapsed": false
    }
   }
  }
 },
 "nbformat": 4,
 "nbformat_minor": 0
}